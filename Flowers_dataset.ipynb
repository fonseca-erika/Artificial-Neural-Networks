{
 "cells": [
  {
   "cell_type": "markdown",
   "metadata": {},
   "source": [
    "## Training a CNN"
   ]
  },
  {
   "cell_type": "markdown",
   "metadata": {},
   "source": [
    "In this lab we are going to be working with a [\"17 Category Flower Dataset\"](https://www.robots.ox.ac.uk/~vgg/data/flowers/17/index.html) from Visual Geometry Group of Oxford University.\n",
    "We will acquire the data, split it, train multiple models and do some vizualizations. "
   ]
  },
  {
   "cell_type": "code",
   "execution_count": 26,
   "metadata": {},
   "outputs": [],
   "source": [
    "import numpy as np \n",
    "import pandas as pd \n",
    "import os \n",
    "import shutil "
   ]
  },
  {
   "cell_type": "markdown",
   "metadata": {},
   "source": [
    "### 1. Data aquisition"
   ]
  },
  {
   "cell_type": "markdown",
   "metadata": {},
   "source": [
    "First, let's download the data from the webpage. You could have done it manually by going to the page, but we'll do it in the script."
   ]
  },
  {
   "cell_type": "code",
   "execution_count": 27,
   "metadata": {},
   "outputs": [],
   "source": [
    "import urllib"
   ]
  },
  {
   "cell_type": "code",
   "execution_count": 28,
   "metadata": {},
   "outputs": [],
   "source": [
    "dataset_url = \"https://www.robots.ox.ac.uk/~vgg/data/flowers/17/17flowers.tgz\"\n",
    "split_description_url = \"https://www.robots.ox.ac.uk/~vgg/data/flowers/17/datasplits.mat\"\n",
    "#segmentation_ground_truth_url = \"https://www.robots.ox.ac.uk/~vgg/data/flowers/17/trimaps.tgz\"\n",
    "readme_url = \"https://www.robots.ox.ac.uk/~vgg/data/flowers/17/README.txt\""
   ]
  },
  {
   "cell_type": "markdown",
   "metadata": {},
   "source": [
    "First, let's download the README file"
   ]
  },
  {
   "cell_type": "code",
   "execution_count": 29,
   "metadata": {},
   "outputs": [],
   "source": [
    "# create folder to store data\n",
    "data_folder = \"data/\"\n",
    "os.makedirs(data_folder, exist_ok=True)"
   ]
  },
  {
   "cell_type": "code",
   "execution_count": 30,
   "metadata": {},
   "outputs": [],
   "source": [
    "# let's write a function to download data as we'll use multiple times\n",
    "def get_file(file_url, target_folder=\"\"):\n",
    "    filename = os.path.basename(file_url)\n",
    "    # express explicitly the filepath where data will be downloaded\n",
    "    target_filepath = os.path.join(target_folder, filename)\n",
    "    filepath, response = urllib.request.urlretrieve(file_url, target_filepath)\n",
    "    \n",
    "    return filepath, response"
   ]
  },
  {
   "cell_type": "code",
   "execution_count": 31,
   "metadata": {},
   "outputs": [],
   "source": [
    "# download readme file\n",
    "readme_filepath, response = get_file(readme_url, data_folder)"
   ]
  },
  {
   "cell_type": "code",
   "execution_count": 32,
   "metadata": {},
   "outputs": [
    {
     "name": "stdout",
     "output_type": "stream",
     "text": [
      "17 Flower Category Database\n",
      "----------------------------------------------\n",
      "This set contains images of flowers belonging to 17 different categories. \n",
      "The images were acquired by searching the web and taking pictures. There are\n",
      "80 images for each category. \n",
      "\n",
      "The database was used in:\n",
      "\n",
      "Nilsback, M-E. and Zisserman, A.  A Visual Vocabulary for Flower Classification.\n",
      "Proceedings of the IEEE Conference on Computer Vision and Pattern Recognition (2006) \n",
      "http://www.robots.ox.ac.uk/~vgg/publications/papers/nilsback06.{pdf,ps.gz}.\n",
      "\n",
      "The datasplits used in this paper are specified in datasplits.mat\n",
      "\n",
      "There are 3 separate splits. The results in the paper are averaged over the 3 splits.\n",
      "Each split has a training file (trn1,trn2,trn3), a validation file (val1, val2, val3)\n",
      "and a testfile (tst1, tst2 or tst3). \n",
      "\n",
      "Segmentation Ground Truth\n",
      "------------------------------------------------\n",
      "The ground truth is given for a subset of the images from 13 different\n",
      "categories. \n",
      "\n",
      "More details can be found in:\n",
      "\n",
      "Nilsback, M-E. and Zisserman, A. Delving into the whorl of flower segmentation.\n",
      "Proceedings of the British Machine Vision Conference (2007)\n",
      "http:www.robots.ox.ac.uk/~vgg/publications/papers/nilsback06.(pdf,ps.gz).\n",
      "\n",
      "The ground truth file also contains the file imlist.mat, which indicated\n",
      "which images in the original database that have been anotated.\n",
      "\n",
      "Distance matrices\n",
      "-----------------------------------------------\n",
      "\n",
      "We provide two set of distance matrices:\n",
      "\n",
      "1. distancematrices17gcfeat06.mat \n",
      "- Distance matrices using the same features and segmentation as detailed in:\n",
      "    Nilsback, M-E. and Zisserman, A.  A Visual Vocabulary for Flower Classification.\n",
      "    Proceedings of the IEEE Conference on Computer Vision and Pattern Recognition(2006)\n",
      "    http://www.robots.ox.ac.uk/~vgg/publications/papers/nilsback06.{pdf,ps.gz}.\n",
      "\n",
      "2. distancematrices17itfeat08.mat\n",
      "- Distance matrices using the same features as described in: \n",
      "    Nilsback, M-E. and Zisserman, A. Automated flower classification over a large number of classes.\n",
      "    Proceedings of the Indian Conference on Computer Vision, Graphics and Image Processing (2008)\n",
      "    http://www.robots.ox.ac.uk/~vgg/publications/papers/nilsback08.{pdf,ps.gz}.\n",
      "  and the iterative segmenation scheme detailed in \n",
      "    Nilsback, M-E. and Zisserman, A. Delving into the whorl of flower segmentation.\n",
      "    Proceedings of the British Machine Vision Conference (2007)\n",
      "    http:www.robots.ox.ac.uk/~vgg/publications/papers/nilsback06.(pdf,ps.gz).\n",
      "\n"
     ]
    }
   ],
   "source": [
    "# Check out the README\n",
    "with open(readme_filepath, 'r') as readme:\n",
    "    text = readme.read()\n",
    "    print(text)"
   ]
  },
  {
   "cell_type": "markdown",
   "metadata": {},
   "source": [
    "Now, let's download the data"
   ]
  },
  {
   "cell_type": "code",
   "execution_count": 33,
   "metadata": {},
   "outputs": [],
   "source": [
    "# download the data\n",
    "dataset_filepath, response = get_file(dataset_url, data_folder)"
   ]
  },
  {
   "cell_type": "markdown",
   "metadata": {},
   "source": [
    "We have just downloaded a tar file. Let's unpack it."
   ]
  },
  {
   "cell_type": "code",
   "execution_count": 34,
   "metadata": {},
   "outputs": [],
   "source": [
    "import tarfile"
   ]
  },
  {
   "cell_type": "code",
   "execution_count": 35,
   "metadata": {},
   "outputs": [],
   "source": [
    "with tarfile.open(dataset_filepath) as tar:\n",
    "    tar.extractall(path=data_folder)"
   ]
  },
  {
   "cell_type": "markdown",
   "metadata": {},
   "source": [
    "What have we extracted? "
   ]
  },
  {
   "cell_type": "code",
   "execution_count": 36,
   "metadata": {},
   "outputs": [
    {
     "data": {
      "text/plain": [
       "['17flowers.tgz', 'datasplits.mat', 'jpg', 'README.txt']"
      ]
     },
     "execution_count": 36,
     "metadata": {},
     "output_type": "execute_result"
    }
   ],
   "source": [
    "os.listdir(data_folder)"
   ]
  },
  {
   "cell_type": "markdown",
   "metadata": {},
   "source": [
    "We see that a new folder named *jpg* has appeared."
   ]
  },
  {
   "cell_type": "code",
   "execution_count": 37,
   "metadata": {},
   "outputs": [
    {
     "data": {
      "text/plain": [
       "['files.txt',\n",
       " 'files.txt~',\n",
       " 'image_0001.jpg',\n",
       " 'image_0002.jpg',\n",
       " 'image_0003.jpg',\n",
       " 'image_0004.jpg',\n",
       " 'image_0005.jpg',\n",
       " 'image_0006.jpg',\n",
       " 'image_0007.jpg',\n",
       " 'image_0008.jpg']"
      ]
     },
     "execution_count": 37,
     "metadata": {},
     "output_type": "execute_result"
    }
   ],
   "source": [
    "os.listdir(os.path.join(data_folder, 'jpg'))[:10]"
   ]
  },
  {
   "cell_type": "markdown",
   "metadata": {},
   "source": [
    "This folder contains images of the dataset. But what about ground truth?\n",
    "\n",
    "Based on the README, each class contains exactly 80 images. Quick check shows that images of one class are grouped together. We will use this fact later to group the images by class."
   ]
  },
  {
   "cell_type": "markdown",
   "metadata": {},
   "source": [
    "The split information was already provided with the dataset (otherwise we could have used train_test_split to obtain it)"
   ]
  },
  {
   "cell_type": "code",
   "execution_count": 38,
   "metadata": {},
   "outputs": [],
   "source": [
    "# download split file\n",
    "split_filepath, response = get_file(split_description_url, data_folder)"
   ]
  },
  {
   "cell_type": "code",
   "execution_count": 39,
   "metadata": {},
   "outputs": [],
   "source": [
    "from scipy.io import loadmat\n",
    "split = loadmat(split_filepath)"
   ]
  },
  {
   "cell_type": "code",
   "execution_count": 40,
   "metadata": {},
   "outputs": [
    {
     "data": {
      "text/plain": [
       "dict_keys(['__header__', '__version__', '__globals__', 'trn1', 'trn2', 'trn3', 'tst1', 'tst2', 'tst3', 'val3', 'val2', 'val1'])"
      ]
     },
     "execution_count": 40,
     "metadata": {},
     "output_type": "execute_result"
    }
   ],
   "source": [
    "split.keys()"
   ]
  },
  {
   "cell_type": "markdown",
   "metadata": {},
   "source": [
    "Let's use option 1 of train/val/test split:"
   ]
  },
  {
   "cell_type": "code",
   "execution_count": 41,
   "metadata": {},
   "outputs": [
    {
     "name": "stdout",
     "output_type": "stream",
     "text": [
      "Train set contains 680 files, \n",
      "val set contains 340 files, \n",
      "and test set contains 340 files\n"
     ]
    }
   ],
   "source": [
    "train = split[\"trn1\"]\n",
    "val = split[\"val1\"]\n",
    "test = split[\"tst1\"]\n",
    "\n",
    "print(\"\"\"Train set contains {} files, \n",
    "val set contains {} files, \n",
    "and test set contains {} files\"\"\".format(train.shape[1], val.shape[1], test.shape[1]))"
   ]
  },
  {
   "cell_type": "markdown",
   "metadata": {},
   "source": [
    "##### Excercise\n",
    "Additional things to do:\n",
    "- Check how many images we have downloaded.\n",
    "- Display some of the images.\n",
    "- Are those color images? \n",
    "- What are their shape? \n",
    "- Are they all of the same shape?"
   ]
  },
  {
   "cell_type": "code",
   "execution_count": null,
   "metadata": {},
   "outputs": [],
   "source": []
  },
  {
   "cell_type": "markdown",
   "metadata": {},
   "source": [
    "### 2. Data regrouping"
   ]
  },
  {
   "cell_type": "markdown",
   "metadata": {},
   "source": [
    "During the training with Keras for the simplicity we are going to be using flow_from_dir method of ImageDataGenerator. However, we'll need to organize data first in the specific manner: separate train, val, test sets, and put images of each class in a designated folder. \n"
   ]
  },
  {
   "cell_type": "markdown",
   "metadata": {},
   "source": [
    "First, let's write a function to get a class name from file index. We'll use the fact that each class has 80 images, and they are grouped together by index. "
   ]
  },
  {
   "cell_type": "code",
   "execution_count": 42,
   "metadata": {},
   "outputs": [],
   "source": [
    "def get_image_class(file_index):\n",
    "    image_class_idx = (int(file_index) - 1) // 80 + 1\n",
    "    class_name = \"{:02d}\".format(image_class_idx)\n",
    "    \n",
    "    return class_name"
   ]
  },
  {
   "cell_type": "markdown",
   "metadata": {},
   "source": [
    "Now let's rearrange the data"
   ]
  },
  {
   "cell_type": "code",
   "execution_count": 43,
   "metadata": {},
   "outputs": [],
   "source": [
    "from shutil import copy"
   ]
  },
  {
   "cell_type": "code",
   "execution_count": 44,
   "metadata": {},
   "outputs": [],
   "source": [
    "training_folder_name = \"training_folder\""
   ]
  },
  {
   "cell_type": "code",
   "execution_count": 45,
   "metadata": {},
   "outputs": [
    {
     "name": "stdout",
     "output_type": "stream",
     "text": [
      "files.txt\n",
      "Not a jpg file, skipping\n",
      "files.txt~\n",
      "Not a jpg file, skipping\n"
     ]
    }
   ],
   "source": [
    "for filename in os.listdir(os.path.join(data_folder, 'jpg')):\n",
    "    if filename.endswith('jpg'):\n",
    "        ### filename 'image_0936.jpg' --> file_index 936\n",
    "        file_index = int(filename[6:10])\n",
    "        true_class = get_image_class(file_index)\n",
    "        if file_index in train:\n",
    "            split_folder = 'train'\n",
    "        elif file_index in val:\n",
    "            split_folder = 'val'\n",
    "        elif file_index in test:\n",
    "            split_folder = 'test'     \n",
    "        \n",
    "        target_folder = os.path.join(data_folder, training_folder_name, split_folder, true_class)\n",
    "        os.makedirs(target_folder, exist_ok=True)\n",
    "        \n",
    "        source_filepath = os.path.join(data_folder, 'jpg', filename)\n",
    "        copy(source_filepath, target_folder)\n",
    "    else:\n",
    "        print(filename)\n",
    "        print(\"Not a jpg file, skipping\")\n",
    "    "
   ]
  },
  {
   "cell_type": "markdown",
   "metadata": {},
   "source": [
    "### 3. CNN training"
   ]
  },
  {
   "cell_type": "markdown",
   "metadata": {},
   "source": [
    "Now that we have prepared the data, we will be able to train a model."
   ]
  },
  {
   "cell_type": "markdown",
   "metadata": {},
   "source": [
    "#### 3.1 Transfer learning"
   ]
  },
  {
   "cell_type": "markdown",
   "metadata": {},
   "source": [
    "Let's do the [transfer learning](https://papers.nips.cc/paper/5347-how-transferable-are-features-in-deep-neural-networks.pdf) we have briefly discussed last time. We'll load one of the pretrained models from Keras library with [ImageNet weights](http://www.image-net.org/)."
   ]
  },
  {
   "cell_type": "markdown",
   "metadata": {},
   "source": [
    "##### Model preparation"
   ]
  },
  {
   "cell_type": "code",
   "execution_count": 46,
   "metadata": {},
   "outputs": [
    {
     "name": "stderr",
     "output_type": "stream",
     "text": [
      "Using TensorFlow backend.\n"
     ]
    }
   ],
   "source": [
    "import keras\n",
    "from keras.preprocessing.image import ImageDataGenerator\n",
    "from keras import backend as K\n",
    "import tensorflow as tf\n",
    "\n",
    "import os"
   ]
  },
  {
   "cell_type": "code",
   "execution_count": 57,
   "metadata": {},
   "outputs": [
    {
     "ename": "RuntimeError",
     "evalue": "The Session graph is empty.  Add operations to the graph before calling run().",
     "output_type": "error",
     "traceback": [
      "\u001b[1;31m---------------------------------------------------------------------------\u001b[0m",
      "\u001b[1;31mRuntimeError\u001b[0m                              Traceback (most recent call last)",
      "\u001b[1;32m<ipython-input-57-41ed1a2f6a50>\u001b[0m in \u001b[0;36m<module>\u001b[1;34m\u001b[0m\n\u001b[0;32m     13\u001b[0m \u001b[0msess_1\u001b[0m \u001b[1;33m=\u001b[0m \u001b[0mtf\u001b[0m\u001b[1;33m.\u001b[0m\u001b[0mcompat\u001b[0m\u001b[1;33m.\u001b[0m\u001b[0mv1\u001b[0m\u001b[1;33m.\u001b[0m\u001b[0mSession\u001b[0m\u001b[1;33m(\u001b[0m\u001b[0mconfig\u001b[0m\u001b[1;33m=\u001b[0m\u001b[0mconfig_1\u001b[0m\u001b[1;33m)\u001b[0m\u001b[1;33m\u001b[0m\u001b[1;33m\u001b[0m\u001b[0m\n\u001b[0;32m     14\u001b[0m \u001b[0minit\u001b[0m \u001b[1;33m=\u001b[0m \u001b[0mtf\u001b[0m\u001b[1;33m.\u001b[0m\u001b[0mcompat\u001b[0m\u001b[1;33m.\u001b[0m\u001b[0mv1\u001b[0m\u001b[1;33m.\u001b[0m\u001b[0mglobal_variables_initializer\u001b[0m\u001b[1;33m(\u001b[0m\u001b[1;33m)\u001b[0m\u001b[1;33m\u001b[0m\u001b[1;33m\u001b[0m\u001b[0m\n\u001b[1;32m---> 15\u001b[1;33m \u001b[0msess_1\u001b[0m\u001b[1;33m.\u001b[0m\u001b[0mrun\u001b[0m\u001b[1;33m(\u001b[0m\u001b[0minit\u001b[0m\u001b[1;33m)\u001b[0m\u001b[1;33m\u001b[0m\u001b[1;33m\u001b[0m\u001b[0m\n\u001b[0m\u001b[0;32m     16\u001b[0m \u001b[0mK\u001b[0m\u001b[1;33m.\u001b[0m\u001b[0mset_session\u001b[0m\u001b[1;33m(\u001b[0m\u001b[0msess_1\u001b[0m\u001b[1;33m)\u001b[0m\u001b[1;33m\u001b[0m\u001b[1;33m\u001b[0m\u001b[0m\n",
      "\u001b[1;32mc:\\users\\fonse\\pythonenvs\\venv_lab\\lib\\site-packages\\tensorflow_core\\python\\client\\session.py\u001b[0m in \u001b[0;36mrun\u001b[1;34m(self, fetches, feed_dict, options, run_metadata)\u001b[0m\n\u001b[0;32m    958\u001b[0m     \u001b[1;32mtry\u001b[0m\u001b[1;33m:\u001b[0m\u001b[1;33m\u001b[0m\u001b[1;33m\u001b[0m\u001b[0m\n\u001b[0;32m    959\u001b[0m       result = self._run(None, fetches, feed_dict, options_ptr,\n\u001b[1;32m--> 960\u001b[1;33m                          run_metadata_ptr)\n\u001b[0m\u001b[0;32m    961\u001b[0m       \u001b[1;32mif\u001b[0m \u001b[0mrun_metadata\u001b[0m\u001b[1;33m:\u001b[0m\u001b[1;33m\u001b[0m\u001b[1;33m\u001b[0m\u001b[0m\n\u001b[0;32m    962\u001b[0m         \u001b[0mproto_data\u001b[0m \u001b[1;33m=\u001b[0m \u001b[0mtf_session\u001b[0m\u001b[1;33m.\u001b[0m\u001b[0mTF_GetBuffer\u001b[0m\u001b[1;33m(\u001b[0m\u001b[0mrun_metadata_ptr\u001b[0m\u001b[1;33m)\u001b[0m\u001b[1;33m\u001b[0m\u001b[1;33m\u001b[0m\u001b[0m\n",
      "\u001b[1;32mc:\\users\\fonse\\pythonenvs\\venv_lab\\lib\\site-packages\\tensorflow_core\\python\\client\\session.py\u001b[0m in \u001b[0;36m_run\u001b[1;34m(self, handle, fetches, feed_dict, options, run_metadata)\u001b[0m\n\u001b[0;32m   1106\u001b[0m       \u001b[1;32mraise\u001b[0m \u001b[0mRuntimeError\u001b[0m\u001b[1;33m(\u001b[0m\u001b[1;34m'Attempted to use a closed Session.'\u001b[0m\u001b[1;33m)\u001b[0m\u001b[1;33m\u001b[0m\u001b[1;33m\u001b[0m\u001b[0m\n\u001b[0;32m   1107\u001b[0m     \u001b[1;32mif\u001b[0m \u001b[0mself\u001b[0m\u001b[1;33m.\u001b[0m\u001b[0mgraph\u001b[0m\u001b[1;33m.\u001b[0m\u001b[0mversion\u001b[0m \u001b[1;33m==\u001b[0m \u001b[1;36m0\u001b[0m\u001b[1;33m:\u001b[0m\u001b[1;33m\u001b[0m\u001b[1;33m\u001b[0m\u001b[0m\n\u001b[1;32m-> 1108\u001b[1;33m       raise RuntimeError('The Session graph is empty.  Add operations to the '\n\u001b[0m\u001b[0;32m   1109\u001b[0m                          'graph before calling run().')\n\u001b[0;32m   1110\u001b[0m \u001b[1;33m\u001b[0m\u001b[0m\n",
      "\u001b[1;31mRuntimeError\u001b[0m: The Session graph is empty.  Add operations to the graph before calling run()."
     ]
    }
   ],
   "source": [
    "## GPU selection --> execute do only if you need to select a GPU / part of GPU\n",
    "\n",
    "os.environ[\"CUDA_VISIBLE_DEVICES\"] = \"0\" \n",
    "\n",
    "### Set session with share of GPU\n",
    "\n",
    "config_1 = tf.ConfigProto()\n",
    "\n",
    "gpu_fraction_1 = float(os.environ.get('GPU_LIMIT_1', 0.45))\n",
    "config_1.gpu_options.per_process_gpu_memory_fraction = gpu_fraction_1\n",
    "config_1.gpu_options.allow_growth = True\n",
    "\n",
    "sess_1 = tf.Session(config=config_1)\n",
    "sess_1.run(tf.global_variables_initializer())\n",
    "K.set_session(sess_1)"
   ]
  },
  {
   "cell_type": "code",
   "execution_count": 58,
   "metadata": {},
   "outputs": [
    {
     "ename": "RuntimeError",
     "evalue": "The Session graph is empty.  Add operations to the graph before calling run().",
     "output_type": "error",
     "traceback": [
      "\u001b[1;31m---------------------------------------------------------------------------\u001b[0m",
      "\u001b[1;31mRuntimeError\u001b[0m                              Traceback (most recent call last)",
      "\u001b[1;32m<ipython-input-58-41ed1a2f6a50>\u001b[0m in \u001b[0;36m<module>\u001b[1;34m\u001b[0m\n\u001b[0;32m     13\u001b[0m \u001b[0msess_1\u001b[0m \u001b[1;33m=\u001b[0m \u001b[0mtf\u001b[0m\u001b[1;33m.\u001b[0m\u001b[0mcompat\u001b[0m\u001b[1;33m.\u001b[0m\u001b[0mv1\u001b[0m\u001b[1;33m.\u001b[0m\u001b[0mSession\u001b[0m\u001b[1;33m(\u001b[0m\u001b[0mconfig\u001b[0m\u001b[1;33m=\u001b[0m\u001b[0mconfig_1\u001b[0m\u001b[1;33m)\u001b[0m\u001b[1;33m\u001b[0m\u001b[1;33m\u001b[0m\u001b[0m\n\u001b[0;32m     14\u001b[0m \u001b[0minit\u001b[0m \u001b[1;33m=\u001b[0m \u001b[0mtf\u001b[0m\u001b[1;33m.\u001b[0m\u001b[0mcompat\u001b[0m\u001b[1;33m.\u001b[0m\u001b[0mv1\u001b[0m\u001b[1;33m.\u001b[0m\u001b[0mglobal_variables_initializer\u001b[0m\u001b[1;33m(\u001b[0m\u001b[1;33m)\u001b[0m\u001b[1;33m\u001b[0m\u001b[1;33m\u001b[0m\u001b[0m\n\u001b[1;32m---> 15\u001b[1;33m \u001b[0msess_1\u001b[0m\u001b[1;33m.\u001b[0m\u001b[0mrun\u001b[0m\u001b[1;33m(\u001b[0m\u001b[0minit\u001b[0m\u001b[1;33m)\u001b[0m\u001b[1;33m\u001b[0m\u001b[1;33m\u001b[0m\u001b[0m\n\u001b[0m\u001b[0;32m     16\u001b[0m \u001b[0mK\u001b[0m\u001b[1;33m.\u001b[0m\u001b[0mset_session\u001b[0m\u001b[1;33m(\u001b[0m\u001b[0msess_1\u001b[0m\u001b[1;33m)\u001b[0m\u001b[1;33m\u001b[0m\u001b[1;33m\u001b[0m\u001b[0m\n",
      "\u001b[1;32mc:\\users\\fonse\\pythonenvs\\venv_lab\\lib\\site-packages\\tensorflow_core\\python\\client\\session.py\u001b[0m in \u001b[0;36mrun\u001b[1;34m(self, fetches, feed_dict, options, run_metadata)\u001b[0m\n\u001b[0;32m    958\u001b[0m     \u001b[1;32mtry\u001b[0m\u001b[1;33m:\u001b[0m\u001b[1;33m\u001b[0m\u001b[1;33m\u001b[0m\u001b[0m\n\u001b[0;32m    959\u001b[0m       result = self._run(None, fetches, feed_dict, options_ptr,\n\u001b[1;32m--> 960\u001b[1;33m                          run_metadata_ptr)\n\u001b[0m\u001b[0;32m    961\u001b[0m       \u001b[1;32mif\u001b[0m \u001b[0mrun_metadata\u001b[0m\u001b[1;33m:\u001b[0m\u001b[1;33m\u001b[0m\u001b[1;33m\u001b[0m\u001b[0m\n\u001b[0;32m    962\u001b[0m         \u001b[0mproto_data\u001b[0m \u001b[1;33m=\u001b[0m \u001b[0mtf_session\u001b[0m\u001b[1;33m.\u001b[0m\u001b[0mTF_GetBuffer\u001b[0m\u001b[1;33m(\u001b[0m\u001b[0mrun_metadata_ptr\u001b[0m\u001b[1;33m)\u001b[0m\u001b[1;33m\u001b[0m\u001b[1;33m\u001b[0m\u001b[0m\n",
      "\u001b[1;32mc:\\users\\fonse\\pythonenvs\\venv_lab\\lib\\site-packages\\tensorflow_core\\python\\client\\session.py\u001b[0m in \u001b[0;36m_run\u001b[1;34m(self, handle, fetches, feed_dict, options, run_metadata)\u001b[0m\n\u001b[0;32m   1106\u001b[0m       \u001b[1;32mraise\u001b[0m \u001b[0mRuntimeError\u001b[0m\u001b[1;33m(\u001b[0m\u001b[1;34m'Attempted to use a closed Session.'\u001b[0m\u001b[1;33m)\u001b[0m\u001b[1;33m\u001b[0m\u001b[1;33m\u001b[0m\u001b[0m\n\u001b[0;32m   1107\u001b[0m     \u001b[1;32mif\u001b[0m \u001b[0mself\u001b[0m\u001b[1;33m.\u001b[0m\u001b[0mgraph\u001b[0m\u001b[1;33m.\u001b[0m\u001b[0mversion\u001b[0m \u001b[1;33m==\u001b[0m \u001b[1;36m0\u001b[0m\u001b[1;33m:\u001b[0m\u001b[1;33m\u001b[0m\u001b[1;33m\u001b[0m\u001b[0m\n\u001b[1;32m-> 1108\u001b[1;33m       raise RuntimeError('The Session graph is empty.  Add operations to the '\n\u001b[0m\u001b[0;32m   1109\u001b[0m                          'graph before calling run().')\n\u001b[0;32m   1110\u001b[0m \u001b[1;33m\u001b[0m\u001b[0m\n",
      "\u001b[1;31mRuntimeError\u001b[0m: The Session graph is empty.  Add operations to the graph before calling run()."
     ]
    }
   ],
   "source": [
    "## GPU selection --> execute do only if you need to select a GPU / part of GPU\n",
    "\n",
    "os.environ[\"CUDA_VISIBLE_DEVICES\"] = \"0\" \n",
    "\n",
    "### Set session with share of GPU\n",
    "\n",
    "config_1 = tf.compat.v1.ConfigProto()\n",
    "\n",
    "gpu_fraction_1 = float(os.environ.get('GPU_LIMIT_1', 0.45))\n",
    "config_1.gpu_options.per_process_gpu_memory_fraction = gpu_fraction_1\n",
    "config_1.gpu_options.allow_growth = True\n",
    "\n",
    "sess_1 = tf.compat.v1.Session(config=config_1)\n",
    "init = tf.compat.v1.global_variables_initializer()\n",
    "sess_1.run(init)\n",
    "K.set_session(sess_1)"
   ]
  },
  {
   "cell_type": "markdown",
   "metadata": {},
   "source": [
    "We'll be using VGG16 model. Together with weights, we'll also need a corresponding preprocessing function for the input images."
   ]
  },
  {
   "cell_type": "code",
   "execution_count": 59,
   "metadata": {},
   "outputs": [],
   "source": [
    "from keras.applications.vgg16 import VGG16\n",
    "from keras.applications.vgg16 import preprocess_input as preprocess_input_vgg\n",
    "\n",
    "from keras.layers import Dense, Dropout, Flatten\n",
    "from keras.models import Model"
   ]
  },
  {
   "cell_type": "code",
   "execution_count": 60,
   "metadata": {},
   "outputs": [
    {
     "name": "stdout",
     "output_type": "stream",
     "text": [
      "Downloading data from https://github.com/fchollet/deep-learning-models/releases/download/v0.1/vgg16_weights_tf_dim_ordering_tf_kernels_notop.h5\n",
      "58892288/58889256 [==============================] - 8s 0us/step\n",
      "Model: \"vgg16\"\n",
      "_________________________________________________________________\n",
      "Layer (type)                 Output Shape              Param #   \n",
      "=================================================================\n",
      "input_1 (InputLayer)         (None, 224, 224, 3)       0         \n",
      "_________________________________________________________________\n",
      "block1_conv1 (Conv2D)        (None, 224, 224, 64)      1792      \n",
      "_________________________________________________________________\n",
      "block1_conv2 (Conv2D)        (None, 224, 224, 64)      36928     \n",
      "_________________________________________________________________\n",
      "block1_pool (MaxPooling2D)   (None, 112, 112, 64)      0         \n",
      "_________________________________________________________________\n",
      "block2_conv1 (Conv2D)        (None, 112, 112, 128)     73856     \n",
      "_________________________________________________________________\n",
      "block2_conv2 (Conv2D)        (None, 112, 112, 128)     147584    \n",
      "_________________________________________________________________\n",
      "block2_pool (MaxPooling2D)   (None, 56, 56, 128)       0         \n",
      "_________________________________________________________________\n",
      "block3_conv1 (Conv2D)        (None, 56, 56, 256)       295168    \n",
      "_________________________________________________________________\n",
      "block3_conv2 (Conv2D)        (None, 56, 56, 256)       590080    \n",
      "_________________________________________________________________\n",
      "block3_conv3 (Conv2D)        (None, 56, 56, 256)       590080    \n",
      "_________________________________________________________________\n",
      "block3_pool (MaxPooling2D)   (None, 28, 28, 256)       0         \n",
      "_________________________________________________________________\n",
      "block4_conv1 (Conv2D)        (None, 28, 28, 512)       1180160   \n",
      "_________________________________________________________________\n",
      "block4_conv2 (Conv2D)        (None, 28, 28, 512)       2359808   \n",
      "_________________________________________________________________\n",
      "block4_conv3 (Conv2D)        (None, 28, 28, 512)       2359808   \n",
      "_________________________________________________________________\n",
      "block4_pool (MaxPooling2D)   (None, 14, 14, 512)       0         \n",
      "_________________________________________________________________\n",
      "block5_conv1 (Conv2D)        (None, 14, 14, 512)       2359808   \n",
      "_________________________________________________________________\n",
      "block5_conv2 (Conv2D)        (None, 14, 14, 512)       2359808   \n",
      "_________________________________________________________________\n",
      "block5_conv3 (Conv2D)        (None, 14, 14, 512)       2359808   \n",
      "_________________________________________________________________\n",
      "block5_pool (MaxPooling2D)   (None, 7, 7, 512)         0         \n",
      "=================================================================\n",
      "Total params: 14,714,688\n",
      "Trainable params: 14,714,688\n",
      "Non-trainable params: 0\n",
      "_________________________________________________________________\n"
     ]
    }
   ],
   "source": [
    "base_model = VGG16(include_top=False, weights='imagenet', input_shape = (224,224,3))\n",
    "base_model.summary()"
   ]
  },
  {
   "cell_type": "markdown",
   "metadata": {},
   "source": [
    "Note that we have downloaded only a convolution part of the neural network. Let's add some dense layers on top of it."
   ]
  },
  {
   "cell_type": "code",
   "execution_count": 61,
   "metadata": {},
   "outputs": [],
   "source": [
    "nb_classes = 17"
   ]
  },
  {
   "cell_type": "code",
   "execution_count": 62,
   "metadata": {},
   "outputs": [],
   "source": [
    "flatten = Flatten()(base_model.output)\n",
    "dropout_1 = Dropout(0.25)(flatten)\n",
    "fc_1 = Dense(1000)(dropout_1)\n",
    "dropout_2 = Dropout(0.5)(fc_1)\n",
    "predictions = Dense(nb_classes, activation=\"softmax\", name='predictions')(dropout_2)"
   ]
  },
  {
   "cell_type": "code",
   "execution_count": 63,
   "metadata": {},
   "outputs": [
    {
     "name": "stderr",
     "output_type": "stream",
     "text": [
      "c:\\users\\fonse\\pythonenvs\\venv_lab\\lib\\site-packages\\ipykernel_launcher.py:1: UserWarning: Update your `Model` call to the Keras 2 API: `Model(inputs=Tensor(\"in..., outputs=Tensor(\"pr...)`\n",
      "  \"\"\"Entry point for launching an IPython kernel.\n"
     ]
    }
   ],
   "source": [
    "model = Model(input=base_model.input, output=predictions)"
   ]
  },
  {
   "cell_type": "code",
   "execution_count": 64,
   "metadata": {},
   "outputs": [
    {
     "name": "stdout",
     "output_type": "stream",
     "text": [
      "Model: \"model_1\"\n",
      "_________________________________________________________________\n",
      "Layer (type)                 Output Shape              Param #   \n",
      "=================================================================\n",
      "input_1 (InputLayer)         (None, 224, 224, 3)       0         \n",
      "_________________________________________________________________\n",
      "block1_conv1 (Conv2D)        (None, 224, 224, 64)      1792      \n",
      "_________________________________________________________________\n",
      "block1_conv2 (Conv2D)        (None, 224, 224, 64)      36928     \n",
      "_________________________________________________________________\n",
      "block1_pool (MaxPooling2D)   (None, 112, 112, 64)      0         \n",
      "_________________________________________________________________\n",
      "block2_conv1 (Conv2D)        (None, 112, 112, 128)     73856     \n",
      "_________________________________________________________________\n",
      "block2_conv2 (Conv2D)        (None, 112, 112, 128)     147584    \n",
      "_________________________________________________________________\n",
      "block2_pool (MaxPooling2D)   (None, 56, 56, 128)       0         \n",
      "_________________________________________________________________\n",
      "block3_conv1 (Conv2D)        (None, 56, 56, 256)       295168    \n",
      "_________________________________________________________________\n",
      "block3_conv2 (Conv2D)        (None, 56, 56, 256)       590080    \n",
      "_________________________________________________________________\n",
      "block3_conv3 (Conv2D)        (None, 56, 56, 256)       590080    \n",
      "_________________________________________________________________\n",
      "block3_pool (MaxPooling2D)   (None, 28, 28, 256)       0         \n",
      "_________________________________________________________________\n",
      "block4_conv1 (Conv2D)        (None, 28, 28, 512)       1180160   \n",
      "_________________________________________________________________\n",
      "block4_conv2 (Conv2D)        (None, 28, 28, 512)       2359808   \n",
      "_________________________________________________________________\n",
      "block4_conv3 (Conv2D)        (None, 28, 28, 512)       2359808   \n",
      "_________________________________________________________________\n",
      "block4_pool (MaxPooling2D)   (None, 14, 14, 512)       0         \n",
      "_________________________________________________________________\n",
      "block5_conv1 (Conv2D)        (None, 14, 14, 512)       2359808   \n",
      "_________________________________________________________________\n",
      "block5_conv2 (Conv2D)        (None, 14, 14, 512)       2359808   \n",
      "_________________________________________________________________\n",
      "block5_conv3 (Conv2D)        (None, 14, 14, 512)       2359808   \n",
      "_________________________________________________________________\n",
      "block5_pool (MaxPooling2D)   (None, 7, 7, 512)         0         \n",
      "_________________________________________________________________\n",
      "flatten_1 (Flatten)          (None, 25088)             0         \n",
      "_________________________________________________________________\n",
      "dropout_1 (Dropout)          (None, 25088)             0         \n",
      "_________________________________________________________________\n",
      "dense_1 (Dense)              (None, 1000)              25089000  \n",
      "_________________________________________________________________\n",
      "dropout_2 (Dropout)          (None, 1000)              0         \n",
      "_________________________________________________________________\n",
      "predictions (Dense)          (None, 17)                17017     \n",
      "=================================================================\n",
      "Total params: 39,820,705\n",
      "Trainable params: 39,820,705\n",
      "Non-trainable params: 0\n",
      "_________________________________________________________________\n"
     ]
    }
   ],
   "source": [
    "model.summary()"
   ]
  },
  {
   "cell_type": "markdown",
   "metadata": {},
   "source": [
    "##### Model training parameters"
   ]
  },
  {
   "cell_type": "code",
   "execution_count": 65,
   "metadata": {},
   "outputs": [],
   "source": [
    "from keras import optimizers"
   ]
  },
  {
   "cell_type": "code",
   "execution_count": 66,
   "metadata": {},
   "outputs": [],
   "source": [
    "loss = 'categorical_crossentropy'\n",
    "learning_rate = 0.001\n",
    "optimizer = optimizers.SGD ## optimizers.SGD ## optimizers.RMSprop ## optimizers.Adagrad\n",
    "metrics = ['accuracy']"
   ]
  },
  {
   "cell_type": "code",
   "execution_count": 67,
   "metadata": {},
   "outputs": [],
   "source": [
    "model.compile(loss=loss,\n",
    "              optimizer=optimizer(learning_rate),\n",
    "              metrics=metrics)"
   ]
  },
  {
   "cell_type": "markdown",
   "metadata": {},
   "source": [
    "##### Data preparation"
   ]
  },
  {
   "cell_type": "code",
   "execution_count": 68,
   "metadata": {},
   "outputs": [],
   "source": [
    "from keras.preprocessing.image import ImageDataGenerator"
   ]
  },
  {
   "cell_type": "code",
   "execution_count": 69,
   "metadata": {},
   "outputs": [],
   "source": [
    "train_dir = os.path.join(data_folder, training_folder_name, \"train\")\n",
    "val_dir = os.path.join(data_folder, training_folder_name, \"val\")\n",
    "test_dir = os.path.join(data_folder, training_folder_name, \"test\")"
   ]
  },
  {
   "cell_type": "code",
   "execution_count": 70,
   "metadata": {},
   "outputs": [],
   "source": [
    "# we'll resize images in correspondance to network input size\n",
    "image_size = (224,224)"
   ]
  },
  {
   "cell_type": "code",
   "execution_count": 71,
   "metadata": {},
   "outputs": [
    {
     "name": "stdout",
     "output_type": "stream",
     "text": [
      "Found 680 images belonging to 17 classes.\n",
      "Found 340 images belonging to 17 classes.\n"
     ]
    }
   ],
   "source": [
    "# apply some data augmentation\n",
    "train_datagen = ImageDataGenerator(rotation_range=15,\n",
    "                                   width_shift_range=0.2,\n",
    "                                   height_shift_range=0.2,\n",
    "                                   horizontal_flip=True,\n",
    "                                   fill_mode='nearest',\n",
    "                                   preprocessing_function=preprocess_input_vgg\n",
    "                                  )\n",
    "\n",
    "validation_datagen = ImageDataGenerator(preprocessing_function=preprocess_input_vgg) # for validation we don't need to augment\n",
    "\n",
    "train_batchsize = 80\n",
    "val_batchsize = 80\n",
    "\n",
    "# this function takes images from folders and feeds to Imagedatagenerator\n",
    "train_generator = train_datagen.flow_from_directory( \n",
    "        train_dir,\n",
    "        target_size=image_size,\n",
    "        batch_size=train_batchsize,\n",
    "        class_mode='categorical')\n",
    " \n",
    "validation_generator = validation_datagen.flow_from_directory(\n",
    "        val_dir,\n",
    "        target_size=image_size,\n",
    "        batch_size=val_batchsize,\n",
    "        class_mode='categorical',\n",
    "        shuffle=False)"
   ]
  },
  {
   "cell_type": "markdown",
   "metadata": {},
   "source": [
    "##### Model training"
   ]
  },
  {
   "cell_type": "code",
   "execution_count": 72,
   "metadata": {},
   "outputs": [],
   "source": [
    "epochs = 50"
   ]
  },
  {
   "cell_type": "code",
   "execution_count": 73,
   "metadata": {},
   "outputs": [],
   "source": [
    "nb_train_steps = train_generator.samples // train_generator.batch_size\n",
    "nb_val_steps = validation_generator.samples // validation_generator.batch_size"
   ]
  },
  {
   "cell_type": "code",
   "execution_count": 74,
   "metadata": {},
   "outputs": [
    {
     "name": "stdout",
     "output_type": "stream",
     "text": [
      "Epoch 1/50\n",
      "8/8 [==============================] - 286s 36s/step - loss: 8.8036 - accuracy: 0.0367 - val_loss: 2.8342 - val_accuracy: 0.0750\n",
      "Epoch 2/50\n",
      "8/8 [==============================] - 280s 35s/step - loss: 2.8583 - accuracy: 0.0600 - val_loss: 2.8282 - val_accuracy: 0.0731\n",
      "Epoch 3/50\n",
      "8/8 [==============================] - 278s 35s/step - loss: 2.8573 - accuracy: 0.0733 - val_loss: 2.8416 - val_accuracy: 0.1038\n",
      "Epoch 4/50\n",
      "8/8 [==============================] - 296s 37s/step - loss: 2.8232 - accuracy: 0.0734 - val_loss: 2.8071 - val_accuracy: 0.1115\n",
      "Epoch 5/50\n",
      "8/8 [==============================] - 269s 34s/step - loss: 2.7890 - accuracy: 0.1150 - val_loss: 2.4629 - val_accuracy: 0.1077\n",
      "Epoch 6/50\n",
      "8/8 [==============================] - 277s 35s/step - loss: 2.8120 - accuracy: 0.0800 - val_loss: 2.8033 - val_accuracy: 0.1219\n",
      "Epoch 7/50\n",
      "8/8 [==============================] - 270s 34s/step - loss: 2.8138 - accuracy: 0.0733 - val_loss: 2.7454 - val_accuracy: 0.1538\n",
      "Epoch 8/50\n",
      "8/8 [==============================] - 274s 34s/step - loss: 2.7854 - accuracy: 0.1117 - val_loss: 2.8151 - val_accuracy: 0.1231\n",
      "Epoch 9/50\n",
      "8/8 [==============================] - 277s 35s/step - loss: 2.7406 - accuracy: 0.1267 - val_loss: 2.8397 - val_accuracy: 0.1846\n",
      "Epoch 10/50\n",
      "8/8 [==============================] - 274s 34s/step - loss: 2.7129 - accuracy: 0.1312 - val_loss: 2.1009 - val_accuracy: 0.2000\n",
      "Epoch 11/50\n",
      "8/8 [==============================] - 272s 34s/step - loss: 2.7049 - accuracy: 0.1333 - val_loss: 2.6052 - val_accuracy: 0.1875\n",
      "Epoch 12/50\n",
      "8/8 [==============================] - 260s 33s/step - loss: 2.6495 - accuracy: 0.1446 - val_loss: 2.6223 - val_accuracy: 0.1654\n",
      "Epoch 13/50\n",
      "8/8 [==============================] - 280s 35s/step - loss: 2.6775 - accuracy: 0.1650 - val_loss: 2.7221 - val_accuracy: 0.1308\n",
      "Epoch 14/50\n",
      "8/8 [==============================] - 289s 36s/step - loss: 2.6557 - accuracy: 0.1562 - val_loss: 2.8022 - val_accuracy: 0.1923\n",
      "Epoch 15/50\n",
      "8/8 [==============================] - 288s 36s/step - loss: 2.6143 - accuracy: 0.1517 - val_loss: 1.9102 - val_accuracy: 0.2500\n",
      "Epoch 16/50\n",
      "8/8 [==============================] - 280s 35s/step - loss: 2.5581 - accuracy: 0.1700 - val_loss: 2.6661 - val_accuracy: 0.2281\n",
      "Epoch 17/50\n",
      "8/8 [==============================] - 282s 35s/step - loss: 2.5767 - accuracy: 0.1650 - val_loss: 2.2673 - val_accuracy: 0.2692\n",
      "Epoch 18/50\n",
      "8/8 [==============================] - 274s 34s/step - loss: 2.5429 - accuracy: 0.1850 - val_loss: 2.6215 - val_accuracy: 0.1615\n",
      "Epoch 19/50\n",
      "8/8 [==============================] - 273s 34s/step - loss: 2.4366 - accuracy: 0.2433 - val_loss: 2.6381 - val_accuracy: 0.3038\n",
      "Epoch 20/50\n",
      "8/8 [==============================] - 296s 37s/step - loss: 2.4003 - accuracy: 0.2344 - val_loss: 1.7688 - val_accuracy: 0.3308\n",
      "Epoch 21/50\n",
      "8/8 [==============================] - 265s 33s/step - loss: 2.6366 - accuracy: 0.1696 - val_loss: 2.6434 - val_accuracy: 0.1781\n",
      "Epoch 22/50\n",
      "8/8 [==============================] - 284s 36s/step - loss: 2.5069 - accuracy: 0.2000 - val_loss: 2.2255 - val_accuracy: 0.2385\n",
      "Epoch 23/50\n",
      "8/8 [==============================] - 264s 33s/step - loss: 2.4962 - accuracy: 0.2036 - val_loss: 2.3545 - val_accuracy: 0.2154\n",
      "Epoch 24/50\n",
      "8/8 [==============================] - 284s 35s/step - loss: 2.3342 - accuracy: 0.2594 - val_loss: 2.6304 - val_accuracy: 0.3654\n",
      "Epoch 25/50\n",
      "8/8 [==============================] - 268s 34s/step - loss: 2.2781 - accuracy: 0.2467 - val_loss: 1.6382 - val_accuracy: 0.3846\n",
      "Epoch 26/50\n",
      "8/8 [==============================] - 273s 34s/step - loss: 2.2388 - accuracy: 0.2883 - val_loss: 2.0606 - val_accuracy: 0.3531\n",
      "Epoch 27/50\n",
      "8/8 [==============================] - 264s 33s/step - loss: 2.1840 - accuracy: 0.2950 - val_loss: 1.3474 - val_accuracy: 0.3615\n",
      "Epoch 28/50\n",
      "8/8 [==============================] - 279s 35s/step - loss: 2.2333 - accuracy: 0.2917 - val_loss: 2.2002 - val_accuracy: 0.3308\n",
      "Epoch 29/50\n",
      "8/8 [==============================] - 277s 35s/step - loss: 2.2125 - accuracy: 0.2767 - val_loss: 2.4774 - val_accuracy: 0.3538\n",
      "Epoch 30/50\n",
      "8/8 [==============================] - 287s 36s/step - loss: 2.2064 - accuracy: 0.2750 - val_loss: 1.7499 - val_accuracy: 0.4231\n",
      "Epoch 31/50\n",
      "8/8 [==============================] - 257s 32s/step - loss: 2.0138 - accuracy: 0.3554 - val_loss: 1.9018 - val_accuracy: 0.4031\n",
      "Epoch 32/50\n",
      "8/8 [==============================] - 300s 37s/step - loss: 1.9472 - accuracy: 0.3516 - val_loss: 1.0895 - val_accuracy: 0.4423\n",
      "Epoch 33/50\n",
      "8/8 [==============================] - 573s 72s/step - loss: 1.9048 - accuracy: 0.3667 - val_loss: 2.1992 - val_accuracy: 0.3385\n",
      "Epoch 34/50\n",
      "8/8 [==============================] - 556s 69s/step - loss: 1.8308 - accuracy: 0.3750 - val_loss: 2.5255 - val_accuracy: 0.4731\n",
      "Epoch 35/50\n",
      "8/8 [==============================] - 586s 73s/step - loss: 2.1233 - accuracy: 0.3133 - val_loss: 1.8642 - val_accuracy: 0.4462\n",
      "Epoch 36/50\n",
      "8/8 [==============================] - 624s 78s/step - loss: 1.9642 - accuracy: 0.3375 - val_loss: 1.5350 - val_accuracy: 0.4250\n",
      "Epoch 37/50\n",
      "8/8 [==============================] - 556s 69s/step - loss: 1.8437 - accuracy: 0.3933 - val_loss: 1.1714 - val_accuracy: 0.4154\n",
      "Epoch 38/50\n",
      "8/8 [==============================] - 580s 72s/step - loss: 1.7500 - accuracy: 0.4400 - val_loss: 2.0031 - val_accuracy: 0.4346\n",
      "Epoch 39/50\n",
      "8/8 [==============================] - 596s 75s/step - loss: 1.5970 - accuracy: 0.4719 - val_loss: 2.2664 - val_accuracy: 0.5154\n",
      "Epoch 40/50\n",
      "8/8 [==============================] - 325s 41s/step - loss: 1.7203 - accuracy: 0.4125 - val_loss: 0.9805 - val_accuracy: 0.5423\n",
      "Epoch 41/50\n",
      "8/8 [==============================] - 306s 38s/step - loss: 1.5674 - accuracy: 0.4500 - val_loss: 2.1710 - val_accuracy: 0.4437\n",
      "Epoch 42/50\n",
      "8/8 [==============================] - 455s 57s/step - loss: 1.7875 - accuracy: 0.4333 - val_loss: 0.6071 - val_accuracy: 0.5538\n",
      "Epoch 43/50\n",
      "8/8 [==============================] - 337s 42s/step - loss: 1.4818 - accuracy: 0.5141 - val_loss: 1.6211 - val_accuracy: 0.4731\n",
      "Epoch 44/50\n",
      "8/8 [==============================] - 263s 33s/step - loss: 1.4697 - accuracy: 0.5089 - val_loss: 2.1003 - val_accuracy: 0.5154\n",
      "Epoch 45/50\n",
      "8/8 [==============================] - 288s 36s/step - loss: 1.4881 - accuracy: 0.5219 - val_loss: 1.1983 - val_accuracy: 0.6615\n",
      "Epoch 46/50\n",
      "8/8 [==============================] - 290s 36s/step - loss: 1.4420 - accuracy: 0.5100 - val_loss: 1.6527 - val_accuracy: 0.5594\n",
      "Epoch 47/50\n",
      "8/8 [==============================] - 270s 34s/step - loss: 1.4016 - accuracy: 0.5483 - val_loss: 0.7483 - val_accuracy: 0.5192\n",
      "Epoch 48/50\n",
      "8/8 [==============================] - 277s 35s/step - loss: 1.2528 - accuracy: 0.5800 - val_loss: 1.5656 - val_accuracy: 0.5462\n",
      "Epoch 49/50\n",
      "8/8 [==============================] - 290s 36s/step - loss: 1.3375 - accuracy: 0.5766 - val_loss: 1.7650 - val_accuracy: 0.6538\n",
      "Epoch 50/50\n",
      "8/8 [==============================] - 279s 35s/step - loss: 1.2400 - accuracy: 0.5964 - val_loss: 0.9102 - val_accuracy: 0.6923\n"
     ]
    }
   ],
   "source": [
    "history = model.fit_generator(\n",
    "      train_generator,\n",
    "      steps_per_epoch=nb_train_steps,\n",
    "      epochs=epochs,\n",
    "      validation_data=validation_generator,\n",
    "      validation_steps=nb_val_steps,\n",
    "      verbose=1, #0\n",
    ")"
   ]
  },
  {
   "cell_type": "code",
   "execution_count": 84,
   "metadata": {},
   "outputs": [
    {
     "name": "stdout",
     "output_type": "stream",
     "text": [
      "training acc.: 0.5964286\n",
      "val acc.: 0.692307710647583\n"
     ]
    }
   ],
   "source": [
    "print('training acc.:',history.history['accuracy'][-1])\n",
    "print('val acc.:', (history.history['val_accuracy'])[-1])"
   ]
  },
  {
   "cell_type": "code",
   "execution_count": 85,
   "metadata": {},
   "outputs": [],
   "source": [
    "import matplotlib.pyplot as plt\n",
    "%matplotlib inline\n",
    "def plot_history(history):\n",
    "    plt.figure()\n",
    "    plt.xlabel('Epoch')\n",
    "    plt.ylabel('Accuracy %')\n",
    "    plt.plot(history.epoch, np.array(history.history['accuracy']),\n",
    "    label='Train Accuracy')\n",
    "    plt.plot(history.epoch, np.array(history.history['val_accuracy']),\n",
    "    label = 'Val Accuracy')\n",
    "    plt.legend()\n",
    "    plt.ylim([0, 1])"
   ]
  },
  {
   "cell_type": "code",
   "execution_count": 86,
   "metadata": {},
   "outputs": [
    {
     "data": {
      "image/png": "[encoded data removed]",
      "text/plain": [
       "<Figure size 432x288 with 1 Axes>"
      ]
     },
     "metadata": {
      "needs_background": "light"
     },
     "output_type": "display_data"
    }
   ],
   "source": [
    "plot_history(history)"
   ]
  },
  {
   "cell_type": "markdown",
   "metadata": {},
   "source": [
    "##### Save model"
   ]
  },
  {
   "cell_type": "code",
   "execution_count": 88,
   "metadata": {},
   "outputs": [],
   "source": [
    "weights_folder = \"weights\"\n",
    "os.makedirs(weights_folder, exist_ok=True)"
   ]
  },
  {
   "cell_type": "code",
   "execution_count": 89,
   "metadata": {},
   "outputs": [],
   "source": [
    "model_name = 'vgg16_transfer_weights.h5'"
   ]
  },
  {
   "cell_type": "code",
   "execution_count": 90,
   "metadata": {},
   "outputs": [],
   "source": [
    "model_path = os.path.join(weights_folder, model_name)"
   ]
  },
  {
   "cell_type": "code",
   "execution_count": 91,
   "metadata": {},
   "outputs": [],
   "source": [
    "model.save(model_path)"
   ]
  },
  {
   "cell_type": "markdown",
   "metadata": {},
   "source": [
    "##### Do the test on images"
   ]
  },
  {
   "cell_type": "code",
   "execution_count": 92,
   "metadata": {},
   "outputs": [],
   "source": [
    "from keras.preprocessing import image\n",
    "from keras.models import load_model"
   ]
  },
  {
   "cell_type": "code",
   "execution_count": 93,
   "metadata": {},
   "outputs": [],
   "source": [
    "model = load_model(model_path)"
   ]
  },
  {
   "cell_type": "markdown",
   "metadata": {},
   "source": [
    "###### Single image prediction"
   ]
  },
  {
   "cell_type": "code",
   "execution_count": 94,
   "metadata": {},
   "outputs": [],
   "source": [
    "class_idx = '07'\n",
    "image_name = os.listdir(os.path.join(test_dir, class_idx))[0]\n",
    "image_path = os.path.join(test_dir, class_idx, image_name)"
   ]
  },
  {
   "cell_type": "code",
   "execution_count": 95,
   "metadata": {},
   "outputs": [
    {
     "name": "stdout",
     "output_type": "stream",
     "text": [
      "[[0.00781642 0.00459155 0.00352874 0.01535768 0.03895976 0.00858711\n",
      "  0.7900963  0.0295011  0.04313862 0.02159016 0.00253816 0.00166504\n",
      "  0.00546403 0.00729301 0.01118457 0.00445905 0.00422872]]\n"
     ]
    }
   ],
   "source": [
    "# predicting image: getting the output vector\n",
    "img = image.load_img(image_path, target_size=image_size)\n",
    "img_array = image.img_to_array(img)\n",
    "img_expanded = np.expand_dims(img_array, axis=0)\n",
    "preprocessed_image = preprocess_input_vgg(img_expanded)\n",
    "\n",
    "pred = model.predict(preprocessed_image)\n",
    "print(pred)"
   ]
  },
  {
   "cell_type": "code",
   "execution_count": 96,
   "metadata": {},
   "outputs": [
    {
     "data": {
      "text/plain": [
       "'07'"
      ]
     },
     "execution_count": 96,
     "metadata": {},
     "output_type": "execute_result"
    }
   ],
   "source": [
    "classes = [\"{:02d}\".format(i) for i in range(1, 18)]\n",
    "pred_class_idx = np.argmax(pred, axis=1)\n",
    "classes[pred_class_idx[0]]"
   ]
  },
  {
   "cell_type": "markdown",
   "metadata": {},
   "source": [
    "###### Multiple image predictions"
   ]
  },
  {
   "cell_type": "code",
   "execution_count": 97,
   "metadata": {},
   "outputs": [],
   "source": [
    "from sklearn.metrics import classification_report, confusion_matrix\n",
    "import seaborn as sns; sns.set()"
   ]
  },
  {
   "cell_type": "code",
   "execution_count": 98,
   "metadata": {},
   "outputs": [],
   "source": [
    "test_datagen = ImageDataGenerator(preprocessing_function=preprocess_input_vgg) "
   ]
  },
  {
   "cell_type": "code",
   "execution_count": 99,
   "metadata": {},
   "outputs": [
    {
     "name": "stdout",
     "output_type": "stream",
     "text": [
      "Found 340 images belonging to 17 classes.\n"
     ]
    }
   ],
   "source": [
    "test_generator = test_datagen.flow_from_directory(\n",
    "        test_dir,\n",
    "        target_size=image_size,\n",
    "        shuffle = False,\n",
    "        class_mode='categorical',\n",
    "        batch_size=1)\n",
    "\n",
    "filenames = test_generator.filenames\n",
    "nb_samples = len(filenames)\n",
    "\n",
    "predict = model.predict_generator(test_generator,steps=nb_samples)"
   ]
  },
  {
   "cell_type": "code",
   "execution_count": 100,
   "metadata": {},
   "outputs": [
    {
     "name": "stdout",
     "output_type": "stream",
     "text": [
      "Confusion Matrix\n"
     ]
    },
    {
     "data": {
      "image/png": "[encoded data removed]",
      "text/plain": [
       "<Figure size 432x288 with 1 Axes>"
      ]
     },
     "metadata": {},
     "output_type": "display_data"
    }
   ],
   "source": [
    "y_pred = np.argmax(predict, axis=1)\n",
    "print('Confusion Matrix')\n",
    "\n",
    "mat = confusion_matrix(test_generator.classes, y_pred)\n",
    "sns.heatmap(mat.T, square=True, annot=True, fmt='d', cbar=False,\n",
    "            xticklabels=classes,\n",
    "            yticklabels=classes)\n",
    "plt.xlabel('true label')\n",
    "plt.ylabel('predicted label');"
   ]
  },
  {
   "cell_type": "code",
   "execution_count": 101,
   "metadata": {},
   "outputs": [
    {
     "name": "stdout",
     "output_type": "stream",
     "text": [
      "              precision    recall  f1-score   support\n",
      "\n",
      "           0       0.62      0.40      0.48        20\n",
      "           1       0.41      0.35      0.38        20\n",
      "           2       0.70      0.70      0.70        20\n",
      "           3       0.72      0.65      0.68        20\n",
      "           4       0.52      0.75      0.61        20\n",
      "           5       0.64      0.45      0.53        20\n",
      "           6       0.47      0.90      0.62        20\n",
      "           7       0.41      0.35      0.38        20\n",
      "           8       1.00      0.85      0.92        20\n",
      "           9       1.00      0.85      0.92        20\n",
      "          10       1.00      1.00      1.00        20\n",
      "          11       0.86      0.95      0.90        20\n",
      "          12       1.00      0.80      0.89        20\n",
      "          13       0.52      0.55      0.54        20\n",
      "          14       0.89      0.80      0.84        20\n",
      "          15       0.86      0.90      0.88        20\n",
      "          16       0.77      0.85      0.81        20\n",
      "\n",
      "    accuracy                           0.71       340\n",
      "   macro avg       0.73      0.71      0.71       340\n",
      "weighted avg       0.73      0.71      0.71       340\n",
      "\n"
     ]
    }
   ],
   "source": [
    "print(classification_report(test_generator.classes, y_pred))"
   ]
  },
  {
   "cell_type": "markdown",
   "metadata": {},
   "source": [
    "Things to do\n",
    "\n",
    "- Check some of incorrectly classified images\n",
    "- Experiment with other models available in Keras\n",
    "- Build your own network\n",
    "- Optimize one or several training hyperparameters"
   ]
  },
  {
   "cell_type": "markdown",
   "metadata": {},
   "source": [
    "#### 3.2 Training enhancement"
   ]
  },
  {
   "cell_type": "markdown",
   "metadata": {},
   "source": [
    "There are multiple ways to improve the quality of the model. Have a look at these papers that provide some heuristics for training a [classification](https://arxiv.org/pdf/1812.01187.pdf) or [object detection](https://arxiv.org/pdf/1902.04103.pdf) model."
   ]
  },
  {
   "cell_type": "markdown",
   "metadata": {},
   "source": [
    "##### 3.2.1 Data augmentation"
   ]
  },
  {
   "cell_type": "markdown",
   "metadata": {},
   "source": [
    "Better data augmentation can easily give a boost to a model. Some of the useful tools include\n",
    "- [imgaug](https://github.com/aleju/imgaug)\n",
    "- [mixup](https://arxiv.org/pdf/1710.09412.pdf)"
   ]
  },
  {
   "cell_type": "markdown",
   "metadata": {},
   "source": [
    "##### 3.2.2 Learning rate scheduling and early stopping criteria"
   ]
  },
  {
   "cell_type": "markdown",
   "metadata": {},
   "source": [
    "In Keras learning rate scheduling and early stopping criteria can be implemented using [Callbacks](https://keras.io/callbacks/). In particular, the following are quite useful: LearningRateScheduler, ReduceLROnPlateau, EarlyStopping,  CSVLogger, ModelCheckpoint."
   ]
  },
  {
   "cell_type": "code",
   "execution_count": null,
   "metadata": {},
   "outputs": [],
   "source": []
  },
  {
   "cell_type": "code",
   "execution_count": null,
   "metadata": {},
   "outputs": [],
   "source": []
  },
  {
   "cell_type": "code",
   "execution_count": null,
   "metadata": {},
   "outputs": [],
   "source": []
  }
 ],
 "metadata": {
  "kernelspec": {
   "display_name": "Python 3",
   "language": "python",
   "name": "python3"
  },
  "language_info": {
   "codemirror_mode": {
    "name": "ipython",
    "version": 3
   },
   "file_extension": ".py",
   "mimetype": "text/x-python",
   "name": "python",
   "nbconvert_exporter": "python",
   "pygments_lexer": "ipython3",
   "version": "3.7.6"
  }
 },
 "nbformat": 4,
 "nbformat_minor": 4
}
